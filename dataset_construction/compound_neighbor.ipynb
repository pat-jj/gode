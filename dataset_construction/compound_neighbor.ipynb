{
 "cells": [
  {
   "cell_type": "code",
   "execution_count": 1,
   "metadata": {},
   "outputs": [],
   "source": [
    "import requests\n",
    "\n",
    "url = f\"https://pubchem.ncbi.nlm.nih.gov/rest/rdf/compound/CID60823/nbr.html\"\n",
    "\n",
    "# Query the API and parse the response\n",
    "response = requests.get(url)\n",
    "lines = response.text"
   ]
  },
  {
   "cell_type": "code",
   "execution_count": 7,
   "metadata": {},
   "outputs": [
    {
     "name": "stdout",
     "output_type": "stream",
     "text": [
      "Top 3 CIDs for 2D similarity: ['2250', '60822', '62976']\n",
      "Top 3 CIDs for 3D similarity: ['2250', '3364534', '3364535']\n"
     ]
    }
   ],
   "source": [
    "import requests\n",
    "import re\n",
    "\n",
    "# Define the CID to query\n",
    "cid = 'CID60823'\n",
    "\n",
    "# Define the API endpoint URL\n",
    "url = f\"https://pubchem.ncbi.nlm.nih.gov/rest/rdf/compound/{cid}/nbr.html\"\n",
    "\n",
    "# Query the API and parse the response\n",
    "response = requests.get(url)\n",
    "lines = response.text\n",
    "\n",
    "# Extract the CIDs for 2D similarity\n",
    "pattern_2d = r'similar to by PubChem 2D similarity algorithm.*?CID(\\d+).*?CID(\\d+).*?CID(\\d+).*?CID(\\d+).*?CID(\\d+)'\n",
    "matches_2d = re.search(pattern_2d, lines, flags=re.DOTALL)\n",
    "if matches_2d:\n",
    "    cids_2d = matches_2d.groups()\n",
    "    top_2d = []\n",
    "    for c in cids_2d:\n",
    "        if c not in top_2d and c != cid:\n",
    "            top_2d.append(c)\n",
    "        if len(top_2d) == 3:\n",
    "            break\n",
    "    print(f'Top 3 CIDs for 2D similarity: {top_2d}')\n",
    "else:\n",
    "    print('No matches found for 2D similarity')\n",
    "\n",
    "# Extract the CIDs for 3D similarity\n",
    "pattern_3d = r'similar to by PubChem 3D similarity algorithm.*?CID(\\d+).*?CID(\\d+).*?CID(\\d+).*?CID(\\d+).*?CID(\\d+)'\n",
    "matches_3d = re.search(pattern_3d, lines, flags=re.DOTALL)\n",
    "if matches_3d:\n",
    "    cids_3d = matches_3d.groups()\n",
    "    top_3d = []\n",
    "    for c in cids_3d:\n",
    "        if c not in top_3d and c != cid:\n",
    "            top_3d.append(c)\n",
    "        if len(top_3d) == 3:\n",
    "            break\n",
    "    print(f'Top 3 CIDs for 3D similarity: {top_3d}')\n",
    "else:\n",
    "    print('No matches found for 3D similarity')\n"
   ]
  },
  {
   "cell_type": "code",
   "execution_count": 8,
   "metadata": {},
   "outputs": [],
   "source": [
    "import json\n",
    "\n",
    "with open('./chemical_chemical_1.json', 'r') as f:\n",
    "    chem_chem_1 = json.load(f)\n",
    "\n",
    "with open('./chemical_chemical_2.json', 'r') as f:\n",
    "    chem_chem_2 = json.load(f)\n",
    "\n",
    "with open('./chemical_chemical_3.json', 'r') as f:\n",
    "    chem_chem_3 = json.load(f)\n",
    "\n",
    "cid_set = set()\n",
    "\n",
    "for key in chem_chem_1.keys():\n",
    "    cid_set.add(key)\n",
    "    list_ = chem_chem_1[key]\n",
    "    for item in list_:\n",
    "        cid = item[0].replace('CID', '')\n",
    "        cid_set.add(cid)\n",
    "\n",
    "for key in chem_chem_2.keys():\n",
    "    cid_set.add(key)\n",
    "    list_ = chem_chem_2[key]\n",
    "    for item in list_:\n",
    "        cid = item[0].replace('CID', '')\n",
    "        cid_set.add(cid)\n",
    "\n",
    "for key in chem_chem_3.keys():\n",
    "    cid_set.add(key)\n",
    "    list_ = chem_chem_3[key]\n",
    "    for item in list_:\n",
    "        cid = item[0].replace('CID', '')\n",
    "        cid_set.add(cid)\n"
   ]
  },
  {
   "cell_type": "code",
   "execution_count": 9,
   "metadata": {},
   "outputs": [
    {
     "data": {
      "text/plain": [
       "33563"
      ]
     },
     "execution_count": 9,
     "metadata": {},
     "output_type": "execute_result"
    }
   ],
   "source": [
    "len(cid_set)"
   ]
  },
  {
   "cell_type": "code",
   "execution_count": null,
   "metadata": {},
   "outputs": [],
   "source": [
    "nbr_2d = defaultdict(list)\n",
    "nbr_3d = defaultdict(list)"
   ]
  },
  {
   "cell_type": "code",
   "execution_count": null,
   "metadata": {},
   "outputs": [],
   "source": [
    "import requests\n",
    "import re\n",
    "from collections import defaultdict\n",
    "from tqdm import tqdm\n",
    "\n",
    "\n",
    "for cid in tqdm(cid_set):\n",
    "    # Define the API endpoint URL\n",
    "    url = f\"https://pubchem.ncbi.nlm.nih.gov/rest/rdf/compound/{cid}/nbr.html\"\n",
    "\n",
    "    # Query the API and parse the response\n",
    "    response = requests.get(url)\n",
    "    lines = response.text\n",
    "\n",
    "    # Extract the CIDs for 2D similarity\n",
    "    pattern_2d = r'similar to by PubChem 2D similarity algorithm.*?CID(\\d+).*?CID(\\d+).*?CID(\\d+).*?CID(\\d+).*?CID(\\d+)'\n",
    "    matches_2d = re.search(pattern_2d, lines, flags=re.DOTALL)\n",
    "    if matches_2d:\n",
    "        cids_2d = matches_2d.groups()\n",
    "        for c in cids_2d:\n",
    "            if c not in top_2d and c != cid:\n",
    "                nbr_2d[cid].append(c)\n",
    "            if len(nbr_2d[cid]) == 3:\n",
    "                break\n",
    "\n",
    "    # Extract the CIDs for 3D similarity\n",
    "    pattern_3d = r'similar to by PubChem 3D similarity algorithm.*?CID(\\d+).*?CID(\\d+).*?CID(\\d+).*?CID(\\d+).*?CID(\\d+)'\n",
    "    matches_3d = re.search(pattern_3d, lines, flags=re.DOTALL)\n",
    "    if matches_3d:\n",
    "        cids_3d = matches_3d.groups()\n",
    "        top_3d = []\n",
    "        for c in cids_3d:\n",
    "            if c not in top_3d and c != cid:\n",
    "                nbr_3d[cid].append(c)\n",
    "            if len(nbr_3d[cid]) == 3:\n",
    "                break\n"
   ]
  },
  {
   "cell_type": "code",
   "execution_count": 11,
   "metadata": {},
   "outputs": [],
   "source": [
    "import json\n",
    "\n",
    "with open('./chemical_nbr2d.json', 'w') as f:\n",
    "    json.dump(nbr_2d, f, indent=6)\n",
    "\n",
    "with open('./chemical_nbr3d.json', 'w') as f:\n",
    "    json.dump(nbr_3d, f, indent=6)\n"
   ]
  },
  {
   "cell_type": "code",
   "execution_count": null,
   "metadata": {},
   "outputs": [],
   "source": [
    "nbr\n"
   ]
  }
 ],
 "metadata": {
  "kernelspec": {
   "display_name": "Python 3.8.16 ('txgnn_env')",
   "language": "python",
   "name": "python3"
  },
  "language_info": {
   "codemirror_mode": {
    "name": "ipython",
    "version": 3
   },
   "file_extension": ".py",
   "mimetype": "text/x-python",
   "name": "python",
   "nbconvert_exporter": "python",
   "pygments_lexer": "ipython3",
   "version": "3.8.16"
  },
  "orig_nbformat": 4,
  "vscode": {
   "interpreter": {
    "hash": "79cb95e61c4f960f4e102f21c45668d32cb5c494b237694c15d64b50342e6e99"
   }
  }
 },
 "nbformat": 4,
 "nbformat_minor": 2
}
